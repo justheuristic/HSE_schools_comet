{
 "cells": [
  {
   "cell_type": "markdown",
   "metadata": {},
   "source": [
    "## Машинное обучение в физике; деревья решений\n",
    "\n",
    "# Эксперимент COMET\n",
    "\n",
    "* Ищем преобразование μ- + N → e- + N \n",
    "* __Инженерная задача:__ нужно научиться находить спиралевидные траектории частиц в детекторе (см. картинки)\n",
    "\n",
    "![comet detector](https://kaggle2.blob.core.windows.net/competitions/inclass/4520/media/COMEThelixing.png)\n",
    "\n",
    "* Машинное обучение: по энергии, времени срабатывания и положению датчика (провода) в детекторе определить, было ли срабатывание сигнальным (частица, показано красным) или шумовым (показано синим)\n",
    "\n",
    "![comet event](https://kaggle2.blob.core.windows.net/competitions/inclass/4520/media/COMET2dprojection.png)"
   ]
  },
  {
   "cell_type": "markdown",
   "metadata": {},
   "source": [
    "### Загрузим данные"
   ]
  },
  {
   "cell_type": "code",
   "execution_count": null,
   "metadata": {
    "collapsed": false
   },
   "outputs": [],
   "source": [
    "import pickle\n",
    "with open(\"data.pcl\") as fout:\n",
    "    X_train,X_test,y_train,y_test = pickle.load(fout)\n",
    "    \n",
    "#пока что рассматриваем тольно энергию и время срабатывания\n",
    "X_train = X_train[[\"log_energy_deposit\",\"relative_time\"]]\n",
    "X_test = X_test[[\"log_energy_deposit\",\"relative_time\"]]\n"
   ]
  },
  {
   "cell_type": "code",
   "execution_count": null,
   "metadata": {
    "collapsed": false
   },
   "outputs": [],
   "source": [
    "import numpy as np\n",
    "print X_train.shape, y_train.shape"
   ]
  },
  {
   "cell_type": "markdown",
   "metadata": {},
   "source": [
    "### Графички"
   ]
  },
  {
   "cell_type": "code",
   "execution_count": null,
   "metadata": {
    "collapsed": false
   },
   "outputs": [],
   "source": [
    "import matplotlib.pyplot as plt\n",
    "%matplotlib inline\n",
    "plt.scatter(X_train.log_energy_deposit,\n",
    "            X_train.relative_time,\n",
    "            c=y_train)\n"
   ]
  },
  {
   "cell_type": "markdown",
   "metadata": {},
   "source": [
    "# Здравствуй, дерево\n",
    "\n",
    "У дерева классификации (DecisionTreeClassifier) есть несколько параметров:\n",
    "* criterion : как выбирать лучший признак - 'gini' или 'entropy' (по умолчанию gini).\n",
    "* max_depth :  максимальная глубина дерева (по умолчанию - не ограничено)\n",
    "* min_samples_split : минимальное количество примеров, которые можно делить дальше (по умолчанию 2)\n",
    "* min_samples_leaf : минимальное количество примеров в листе (по умолчанию 1).\n",
    "\n",
    "Сейчас все параметры установлены по умолчанию, но скоро это изменится"
   ]
  },
  {
   "cell_type": "code",
   "execution_count": null,
   "metadata": {
    "collapsed": false
   },
   "outputs": [],
   "source": [
    "from sklearn.tree import DecisionTreeClassifier\n",
    "tree = DecisionTreeClassifier()\n",
    "tree.fit(X_train,y_train)"
   ]
  },
  {
   "cell_type": "markdown",
   "metadata": {},
   "source": [
    "### Нарисуем цветом то, что мы выучили\n",
    "* Дальше следует большая-толстая функция, которая по сути вызывает дерево решений в каждой точке и рисует это на графике. Она сильно оптимизирована, поэтому трудночитаема - пока в неё можно просто поверить."
   ]
  },
  {
   "cell_type": "code",
   "execution_count": null,
   "metadata": {
    "collapsed": false
   },
   "outputs": [],
   "source": [
    "from sklearn.metrics import accuracy_score\n",
    "def plot_decision_surface(clf,X,y,\n",
    "                          plot_step = 0.2,\n",
    "                          figsize=(12,8)\n",
    "                         ):\n",
    "    # Plot the decision boundary\n",
    "    plt.figure(figsize=figsize)\n",
    "    X = np.array(X)\n",
    "    \n",
    "    n_classes = len(set(y))\n",
    "    x_min, x_max = X[:, 0].min(), X[:, 0].max()\n",
    "    y_min, y_max = X[:, 1].min(), X[:, 1].max()\n",
    "    xx, yy = np.meshgrid(np.arange(x_min, x_max, plot_step),\n",
    "                         np.arange(y_min, y_max, plot_step))\n",
    "\n",
    "    Z = clf.predict(np.c_[xx.ravel(), yy.ravel()])\n",
    "    Z = Z.reshape(xx.shape)\n",
    "    cs = plt.contourf(xx, yy, Z,alpha=0.5)    \n",
    "    y_pred = clf.predict(X)\n",
    "\n",
    "    # Plot the training points\n",
    "    plt.scatter(*X[y_pred==y].T,c = y[y_pred==y],\n",
    "                marker='.',alpha=0.3,label='correct')\n",
    "    plt.scatter(*X[y_pred!=y].T,c = y[y_pred!=y],\n",
    "                marker='x',s=50,label='errors')\n",
    "    plt.xlabel('X')\n",
    "    plt.ylabel('Y')\n",
    "    plt.axis(\"tight\")\n",
    "    plt.legend(loc='best')\n",
    "    print \"Accuracy = \",accuracy_score(y,y_pred)\n"
   ]
  },
  {
   "cell_type": "markdown",
   "metadata": {},
   "source": [
    "### Качество на обучающей выборке"
   ]
  },
  {
   "cell_type": "code",
   "execution_count": null,
   "metadata": {
    "collapsed": false
   },
   "outputs": [],
   "source": [
    "plot_decision_surface(tree,X_train,y_train)\n"
   ]
  },
  {
   "cell_type": "markdown",
   "metadata": {},
   "source": [
    "### Качество на тесте"
   ]
  },
  {
   "cell_type": "code",
   "execution_count": null,
   "metadata": {
    "collapsed": false
   },
   "outputs": [],
   "source": [
    "plot_decision_surface(tree,X_test,y_test)"
   ]
  },
  {
   "cell_type": "markdown",
   "metadata": {},
   "source": [
    "### Чини его полностью!\n",
    "\n",
    "Попробуйте поменять параметры DecisionTreeClassifier, чтобы точность стала лучше.\n",
    " * Accuracy >= 0.77 - неплохой первый шаг\n",
    " * Accuracy >= 0.8 - уже лучше, но можно ещё поднажать\n",
    " * Accuracy >= 0.83 - вполне неплохо\n",
    " * Accuracy >= 0.85  - или офигенно или очень повезло\n",
    " \n",
    "[чтобы не мучиться, можно не переписывать всё, а исправлять код выше]"
   ]
  },
  {
   "cell_type": "markdown",
   "metadata": {},
   "source": [
    "### Многомерные задачи\n",
    "\n",
    "* Решать задачи на двух измерениях мы можем и без помощи машин - а вот с большим числом размерностей у человека начинаются проблемы.\n",
    "* В данной задаче есть дополнительные признаки, которые "
   ]
  },
  {
   "cell_type": "code",
   "execution_count": null,
   "metadata": {
    "collapsed": false
   },
   "outputs": [],
   "source": [
    "import pickle\n",
    "with open(\"data.pcl\") as fout:\n",
    "    X_train,X_test,y_train,y_test = pickle.load(fout)\n",
    "\n",
    "X_train[:3]"
   ]
  },
  {
   "cell_type": "markdown",
   "metadata": {},
   "source": [
    "### Дерево на многомерных данных\n",
    "* Теперь мы ищем закономерность в четырёхмерном пространстве\n",
    "* __Ваша задача__ - как и прежде, настроить решающее дерево, чтобы добиться точности хотя бы __85%__."
   ]
  },
  {
   "cell_type": "code",
   "execution_count": null,
   "metadata": {
    "collapsed": false
   },
   "outputs": [],
   "source": [
    "tree = DecisionTreeClassifier(max_depth=20)\n",
    "tree.fit(X_train,y_train)"
   ]
  },
  {
   "cell_type": "code",
   "execution_count": null,
   "metadata": {
    "collapsed": false
   },
   "outputs": [],
   "source": [
    "print \"Train accuracy:\",accuracy_score(y_train,tree.predict(X_train))\n",
    "print \"Test accuracy:\",accuracy_score(y_test,tree.predict(X_test))"
   ]
  },
  {
   "cell_type": "markdown",
   "metadata": {},
   "source": [
    "## Дополнительные признаки\n",
    "\n",
    "* В машинном обучении очень многое зависит от признаков, которыми может пользоваться алгоритм. Полезные признаки увеличивают точность, шум и бесполезные признаки могут её ухудшить.\n",
    "* Вам предлагается придумать дополнительные признаки для многомерной задачи выше.\n",
    "\n",
    "Например, вот так можно добавить признак \"расстояние от центра делить на время срабатывания\", что бы он не значил.\n",
    "```\n",
    "X_train[\"rho_over_time\"] = X_train[\"wire_rho\"] / (X_train[\"relative_time\"]+1e-4)\n",
    "X_test[\"rho_over_time\"] = X_test[\"wire_rho\"] / (X_test[\"relative_time\"]+1e-4)\n",
    "```\n",
    "_1e-4 добавлено, чтобы избежать деления на 0_"
   ]
  },
  {
   "cell_type": "markdown",
   "metadata": {},
   "source": [
    "### Grid search\n",
    "\n",
    "__Бонусный квест -__ найти оптимальные параметры классификатора поиском по сетке.\n",
    "Можно написать скрипт, который будет самостоятельно перебирать наборы параметров и выбирать те, у которых в итоге лучше точность."
   ]
  },
  {
   "cell_type": "code",
   "execution_count": null,
   "metadata": {
    "collapsed": false
   },
   "outputs": [],
   "source": [
    "<your code here>\n",
    "\n",
    "final_model = <your_code>"
   ]
  },
  {
   "cell_type": "code",
   "execution_count": null,
   "metadata": {
    "collapsed": false
   },
   "outputs": [],
   "source": [
    "plot_decision_surface(final_model,Xts,Yts)"
   ]
  },
  {
   "cell_type": "markdown",
   "metadata": {},
   "source": [
    "### Всё ещё переобучаемся\n",
    "\n",
    "Дерево классификации строится так, чтобы лучше __подогнаться__ под __обучающую выборку__.\n",
    "Сейчас __вы подгоняете__ параметры модели так, чтобы качество на __тестовой выборке__ было наибольшим.\n",
    "По сути, вы больше не можете считать, что качество на тесте - хорошая оценка реального качества, потому, что вы подгоняетесь под эту выборку.\n",
    "\n",
    "Как с этим бороться?\n",
    "```\n",
    "\n",
    "```\n",
    "\n",
    "```\n",
    "\n",
    "```\n",
    "\n",
    "```\n",
    "\n",
    "```\n",
    "\n",
    "```\n",
    "\n",
    "```\n",
    "\n",
    "```\n",
    "\n",
    "```\n",
    "\n",
    "```\n",
    "\n",
    "```\n",
    "\n",
    "```\n",
    "\n",
    "```\n",
    "\n",
    "```\n",
    "\n",
    "```\n",
    "\n",
    "```\n",
    "\n",
    "```\n",
    "\n",
    "```\n",
    "\n",
    "```\n",
    "\n",
    "```\n",
    "\n",
    "```\n",
    "\n",
    "```\n",
    "\n",
    "```\n",
    "\n",
    "```\n",
    "\n",
    "```\n",
    "\n",
    "```\n",
    "\n",
    "```\n",
    "\n",
    "```\n",
    "\n",
    "```\n",
    "\n",
    "```\n",
    "\n",
    "```\n",
    "\n",
    "```\n",
    "\n",
    "```\n",
    "\n",
    "```\n",
    "\n",
    "```\n",
    "\n",
    "```\n",
    "\n",
    "```\n",
    "\n",
    "Например, можно выделить ещё одну \"совсем тестовую\" выборку, положить её под камень и не использовать при выборе гиперпараметров -- и оцениваться на ней только 1 раз, когда вы уже определились с моделью."
   ]
  },
  {
   "cell_type": "code",
   "execution_count": null,
   "metadata": {
    "collapsed": true
   },
   "outputs": [],
   "source": []
  }
 ],
 "metadata": {
  "kernelspec": {
   "display_name": "Python 2",
   "language": "python",
   "name": "python2"
  },
  "language_info": {
   "codemirror_mode": {
    "name": "ipython",
    "version": 2
   },
   "file_extension": ".py",
   "mimetype": "text/x-python",
   "name": "python",
   "nbconvert_exporter": "python",
   "pygments_lexer": "ipython2",
   "version": "2.7.11"
  }
 },
 "nbformat": 4,
 "nbformat_minor": 0
}
