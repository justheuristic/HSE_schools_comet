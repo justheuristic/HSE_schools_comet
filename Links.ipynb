{
 "cells": [
  {
   "cell_type": "markdown",
   "metadata": {},
   "source": [
    "# Всякие ссылки \n",
    "_(если хотите скачать - File->Download as->Markdown(md)_\n",
    "\n",
    "\n",
    "__Материалы__\n",
    "* [Репозиторий курса](https://github.com/justheuristic/HSE_schools_comet/)\n",
    "* [Запустить это ещё раз(доступно всегда)](http://mybinder.org:/repo/yandexdataschool/hse_schools_comet)\n",
    "\n",
    "__Данные__\n",
    "* [Comet](https://inclass.kaggle.com/c/comet-track-recognition-mlhep-2015)\n",
    "* [Higgs](https://www.kaggle.com/c/higgs-boson)\n",
    "\n",
    "__Мы__\n",
    "* Lambda -  [лаборотория ВШЭ с ломиком](справа есть контакты).\n",
    "* [Yandex Data Factory](https://yandexdatafactory.com/)\n",
    "* [Школа Анализа Данных](https://yandexdataschool.ru/)\n",
    "* [LHCb в ЦЕРНе](http://lhcb.web.cern.ch/lhcb/) (коллаборация)"
   ]
  },
  {
   "cell_type": "code",
   "execution_count": null,
   "metadata": {
    "collapsed": true
   },
   "outputs": [],
   "source": []
  }
 ],
 "metadata": {
  "kernelspec": {
   "display_name": "Python 2",
   "language": "python",
   "name": "python2"
  },
  "language_info": {
   "codemirror_mode": {
    "name": "ipython",
    "version": 2
   },
   "file_extension": ".py",
   "mimetype": "text/x-python",
   "name": "python",
   "nbconvert_exporter": "python",
   "pygments_lexer": "ipython2",
   "version": "2.7.11"
  }
 },
 "nbformat": 4,
 "nbformat_minor": 0
}
