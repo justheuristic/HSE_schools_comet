{
 "cells": [
  {
   "cell_type": "markdown",
   "metadata": {},
   "source": [
    "### Тетрадки, инструкция по применению\n",
    "\n",
    "* Просто питон (и баш). Если питон - не просто, то просто ещё 1 язык программирования.\n",
    "\n",
    "* Есть клетки. В некоторых из них есть код. \n",
    "\n",
    "* Чтобы выполнить код, нужно тыкнуть по клетке и нажать ctrl+enter. Код можно изменять.\n",
    "\n",
    "__Для начала, выполните клетку ниже ```(!conda install ...)```__"
   ]
  },
  {
   "cell_type": "code",
   "execution_count": null,
   "metadata": {
    "collapsed": false
   },
   "outputs": [],
   "source": [
    "!conda install pydot-ng -y >log\n",
    "!conda install graphviz -y >log"
   ]
  },
  {
   "cell_type": "markdown",
   "metadata": {},
   "source": [
    "### Ищем Higgs -> $ \\tau \\tau $\n",
    "\n",
    "* На вход подаётся событие, на выход хотим научиться говорить \"там есть хиггс\"(1) или \"мусор\"(0)\n",
    "\n",
    "* Следующая клетка: читаем данные"
   ]
  },
  {
   "cell_type": "code",
   "execution_count": null,
   "metadata": {
    "collapsed": false
   },
   "outputs": [],
   "source": [
    "import pandas as pd\n",
    "\n",
    "data = pd.read_csv(\"higgs.csv\",index_col='EventId')\n",
    "\n",
    "#Признаки\n",
    "X = data.drop(\"Label\",1)\n",
    "\n",
    "#Ответы (0 или 1)\n",
    "y = data.Label.values=='s'"
   ]
  },
  {
   "cell_type": "markdown",
   "metadata": {},
   "source": [
    "## Смотрим глазами на данные"
   ]
  },
  {
   "cell_type": "code",
   "execution_count": null,
   "metadata": {
    "collapsed": false
   },
   "outputs": [],
   "source": [
    "X[:5]"
   ]
  },
  {
   "cell_type": "code",
   "execution_count": null,
   "metadata": {
    "collapsed": false
   },
   "outputs": [],
   "source": [
    "y[:5]"
   ]
  },
  {
   "cell_type": "markdown",
   "metadata": {},
   "source": [
    "# Здравствуй, дерево\n",
    "\n",
    "У дерева классификации (DecisionTreeClassifier) есть несколько параметров:\n",
    "* criterion : как выбирать лучший признак - 'gini' или 'entropy' (по умолчанию gini).\n",
    "* max_depth :  максимальная глубина дерева (по умолчанию - не ограничено)\n",
    "* min_samples_split : минимальное количество примеров, которые можно делить дальше (по умолчанию 2)\n",
    "* min_samples_leaf : минимальное количество примеров в листе (по умолчанию 1).\n",
    "\n",
    "Сейчас все параметры установлены по умолчанию, но скоро это изменится"
   ]
  },
  {
   "cell_type": "code",
   "execution_count": null,
   "metadata": {
    "collapsed": false
   },
   "outputs": [],
   "source": [
    "from sklearn.tree import DecisionTreeClassifier\n",
    "tree = DecisionTreeClassifier(max_depth=3)\n",
    "tree.fit(X,y)"
   ]
  },
  {
   "cell_type": "markdown",
   "metadata": {},
   "source": [
    "## Что ты знаешь, дерево?"
   ]
  },
  {
   "cell_type": "code",
   "execution_count": null,
   "metadata": {
    "collapsed": false
   },
   "outputs": [],
   "source": [
    "#Визуализируем дерево решений\n",
    "from sklearn.tree import export_graphviz\n",
    "from sklearn.externals.six import StringIO  \n",
    "import pydot\n",
    "from IPython.display import Image  \n",
    "dot_data = StringIO()  \n",
    "export_graphviz(tree, out_file=dot_data,  \n",
    "                         feature_names=X_train.columns.values,  \n",
    "                         class_names=['0', '1'],  \n",
    "                         filled=True, rounded=True,  \n",
    "                         special_characters=True)  \n",
    "graph = pydot.graph_from_dot_data(dot_data.getvalue())[0]\n",
    "graph.write_png('./tree.png')\n",
    "Image(graph.create_png())\n",
    "\n"
   ]
  }
 ],
 "metadata": {
  "kernelspec": {
   "display_name": "Python 2",
   "language": "python",
   "name": "python2"
  },
  "language_info": {
   "codemirror_mode": {
    "name": "ipython",
    "version": 2
   },
   "file_extension": ".py",
   "mimetype": "text/x-python",
   "name": "python",
   "nbconvert_exporter": "python",
   "pygments_lexer": "ipython2",
   "version": "2.7.12"
  }
 },
 "nbformat": 4,
 "nbformat_minor": 0
}
